{
 "cells": [
  {
   "cell_type": "code",
   "execution_count": null,
   "id": "f2cea801",
   "metadata": {},
   "outputs": [],
   "source": [
    "문1) 자동차 번호가 다음과 같을 때 뒤에 4자리만 출력하세요.\n",
    "\n",
    "자동차번호 = '10라 3709'"
   ]
  },
  {
   "cell_type": "code",
   "execution_count": 26,
   "id": "a1c85439",
   "metadata": {},
   "outputs": [
    {
     "name": "stdout",
     "output_type": "stream",
     "text": [
      "3709\n"
     ]
    }
   ],
   "source": [
    "자동차번호 = '10라 3709'\n",
    "print(자동차번호[4:8])"
   ]
  },
  {
   "cell_type": "code",
   "execution_count": null,
   "id": "a8dba782",
   "metadata": {},
   "outputs": [],
   "source": [
    "문2) 아래의 문자열에서 '홀' 이 몇개 있는지 출력하세요.\n",
    "\n",
    "문자열 = '짝홀짝홀짝홀짝홀짝'"
   ]
  },
  {
   "cell_type": "code",
   "execution_count": 60,
   "id": "fe9a45e1",
   "metadata": {},
   "outputs": [
    {
     "name": "stdout",
     "output_type": "stream",
     "text": [
      "4\n"
     ]
    }
   ],
   "source": [
    "문자열 = '짝홀짝홀짝홀짝홀짝'\n",
    "print(문자열.count('홀'))"
   ]
  },
  {
   "cell_type": "code",
   "execution_count": null,
   "id": "2da9e5b0",
   "metadata": {},
   "outputs": [],
   "source": [
    "문3) 변수에 다음과 같이 문자열과 정수를 이용하여 출력 예시와 같이 formatting 하여 출력하세요.\n",
    "\n",
    "출력 대상\n",
    "이름1 = '아이유'\n",
    "나이1 = 25\n",
    "이름2 = \"서태지\"\n",
    "나이2 = 48\n",
    "formatting 예시) 이름: 홍길동 나이: 16"
   ]
  },
  {
   "cell_type": "code",
   "execution_count": 59,
   "id": "95c5b763",
   "metadata": {},
   "outputs": [
    {
     "name": "stdout",
     "output_type": "stream",
     "text": [
      "이름: 아이유 나이: 25\n",
      "이름: 서태지 나이: 48\n"
     ]
    }
   ],
   "source": [
    "이름1 = '아이유'\n",
    "나이1 = 25\n",
    "이름2 = \"서태지\"\n",
    "나이2 = 48\n",
    "\n",
    "print(\"이름: {} 나이: {}\".format(이름1, 나이1))\n",
    "print(\"이름: {} 나이: {}\".format(이름2, 나이2))"
   ]
  },
  {
   "cell_type": "code",
   "execution_count": null,
   "id": "79c6af85",
   "metadata": {},
   "outputs": [],
   "source": [
    "문4) 다음 리스트에는 4개의 영화 제목이 입력되어있습니다. \"슈퍼맨\"는 몇번째 위치(인덱스)에 있는지 출력하세요.\n",
    "\n",
    "영화 = ['스파이더맨', '배트맨', '슈퍼맨', '원펀맨']\n"
   ]
  },
  {
   "cell_type": "code",
   "execution_count": 28,
   "id": "03f27b83",
   "metadata": {},
   "outputs": [
    {
     "name": "stdout",
     "output_type": "stream",
     "text": [
      "슈퍼맨\n"
     ]
    }
   ],
   "source": [
    "영화 = ['스파이더맨', '배트맨', '슈퍼맨', '원펀맨']\n",
    "\n",
    "print(영화[2])"
   ]
  },
  {
   "cell_type": "code",
   "execution_count": null,
   "id": "3d9e9fc6",
   "metadata": {},
   "outputs": [],
   "source": [
    "문5) 다음 리스트에서 문자열의 길이가 가장 긴 문자열을 찾아 출력하세요.\n",
    "\n",
    "리스트 = [\"쌈장\", \"불고기\", \"삼겹살\", \"된장\", \"간고등어\"]"
   ]
  },
  {
   "cell_type": "code",
   "execution_count": 58,
   "id": "5cca8ee6",
   "metadata": {},
   "outputs": [
    {
     "name": "stdout",
     "output_type": "stream",
     "text": [
      "간고등어\n"
     ]
    }
   ],
   "source": [
    "리스트 = [\"쌈장\", \"불고기\", \"삼겹살\", \"된장\", \"간고등어\"]\n",
    "\n",
    "가장긴문자열 = 리스트[0]          \n",
    "for 항목 in 리스트[1:]:             \n",
    "    if len(항목) > len(가장긴문자열):\n",
    "        가장긴문자열 = 항목        \n",
    "\n",
    "print(가장긴문자열)               "
   ]
  },
  {
   "cell_type": "code",
   "execution_count": null,
   "id": "33e2f73b",
   "metadata": {},
   "outputs": [],
   "source": [
    "문6) 다음 이름과 가격을 딕셔너리 자료형으로 담아서 출력하세요.\n",
    "\n",
    "이름\t가격\n",
    "메로나\t1000\n",
    "폴라포\t1200\n",
    "투게더\t4000"
   ]
  },
  {
   "cell_type": "code",
   "execution_count": 50,
   "id": "034be58d",
   "metadata": {},
   "outputs": [
    {
     "name": "stdout",
     "output_type": "stream",
     "text": [
      "{'메로나': 1000, '폴라포': 1200, '투게더': 4000}\n"
     ]
    }
   ],
   "source": [
    "아이스크림 = {\n",
    "    \"메로나\": 1000,\n",
    "    \"폴라포\": 1200,\n",
    "    \"투게더\": 4000\n",
    "}\n",
    "\n",
    "print(아이스크림)"
   ]
  },
  {
   "cell_type": "code",
   "execution_count": null,
   "id": "55053dac",
   "metadata": {},
   "outputs": [],
   "source": [
    "문7) 사용자로부터 하나의 숫자를 입력받고, 입력 받은 숫자에 10을 더해 출력하라.\n",
    "\n",
    "입력 > 숫자를 입력하세요: 30\n",
    "출력 > 40"
   ]
  },
  {
   "cell_type": "code",
   "execution_count": 39,
   "id": "743fc31c",
   "metadata": {},
   "outputs": [
    {
     "name": "stdout",
     "output_type": "stream",
     "text": [
      "20\n"
     ]
    }
   ],
   "source": [
    "입력=input(\"숫자를 입력하세요\")\n",
    "결과=(int(입력)+10)\n",
    "print(결과)"
   ]
  },
  {
   "cell_type": "code",
   "execution_count": null,
   "id": "6e339f4e",
   "metadata": {},
   "outputs": [
    {
     "name": "stdout",
     "output_type": "stream",
     "text": [
      "10\n",
      "20\n",
      "30\n"
     ]
    }
   ],
   "source": [
    "문8) 다음 코드를 for문으로 변경하여 출력하세요.\n",
    "\n",
    "변수 = 10\n",
    "print(변수)\n",
    "변수 = 20\n",
    "print(변수)\n",
    "변수 = 30\n",
    "print(변수)"
   ]
  },
  {
   "cell_type": "code",
   "execution_count": 51,
   "id": "150a590d",
   "metadata": {},
   "outputs": [
    {
     "name": "stdout",
     "output_type": "stream",
     "text": [
      "10\n",
      "20\n",
      "30\n"
     ]
    }
   ],
   "source": [
    "for 변수 in [10, 20, 30]:\n",
    "    print(변수)"
   ]
  },
  {
   "cell_type": "code",
   "execution_count": null,
   "id": "d6e7d6be",
   "metadata": {},
   "outputs": [],
   "source": [
    "문9) 리스트에는 네 개의 문자열이 있습니다. for문을 사용해서 다음과 같이 출력하세요.\n",
    "\n",
    "리스트 데이터\n",
    "[\"가\", \"나\", \"다\", \"라\"]\n",
    "출력\n",
    "cmd\n",
    "나\n",
    "다\n",
    "라"
   ]
  },
  {
   "cell_type": "code",
   "execution_count": 52,
   "id": "86ebc91a",
   "metadata": {},
   "outputs": [
    {
     "name": "stdout",
     "output_type": "stream",
     "text": [
      "나\n",
      "다\n",
      "라\n"
     ]
    }
   ],
   "source": [
    "리스트 = [\"가\", \"나\", \"다\", \"라\"]\n",
    "\n",
    "for 문자 in 리스트[1:]:\n",
    "    print(문자)"
   ]
  },
  {
   "cell_type": "code",
   "execution_count": null,
   "id": "9a07cf6a",
   "metadata": {},
   "outputs": [],
   "source": [
    "문10) 다음 \"비트코인\" 문자열을 10번 화면에 출력하는 함수를 정의하세요.\n",
    "\n",
    "출력\n",
    "cmd\n",
    "비트코인\n",
    "비트코인\n",
    "비트코인\n",
    "비트코인\n",
    "비트코인\n",
    "비트코인\n",
    "비트코인\n",
    "비트코인\n",
    "비트코인\n",
    "비트코인"
   ]
  },
  {
   "cell_type": "code",
   "execution_count": 57,
   "id": "876bc72f",
   "metadata": {},
   "outputs": [
    {
     "name": "stdout",
     "output_type": "stream",
     "text": [
      "비트코인\n",
      "비트코인\n",
      "비트코인\n",
      "비트코인\n",
      "비트코인\n",
      "비트코인\n",
      "비트코인\n",
      "비트코인\n",
      "비트코인\n",
      "비트코인\n"
     ]
    }
   ],
   "source": [
    "def 출력하기():\n",
    "    for _ in range(10):\n",
    "        print(\"비트코인\")\n",
    "\n",
    "출력하기()"
   ]
  }
 ],
 "metadata": {
  "kernelspec": {
   "display_name": "Python 3",
   "language": "python",
   "name": "python3"
  },
  "language_info": {
   "codemirror_mode": {
    "name": "ipython",
    "version": 3
   },
   "file_extension": ".py",
   "mimetype": "text/x-python",
   "name": "python",
   "nbconvert_exporter": "python",
   "pygments_lexer": "ipython3",
   "version": "3.13.5"
  }
 },
 "nbformat": 4,
 "nbformat_minor": 5
}
